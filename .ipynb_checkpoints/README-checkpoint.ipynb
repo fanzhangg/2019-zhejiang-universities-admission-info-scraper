{
 "cells": [
  {
   "cell_type": "markdown",
   "metadata": {},
   "source": [
    "三位一体招生信息爬虫"
   ]
  },
  {
   "cell_type": "markdown",
   "metadata": {},
   "source": [
    "[![NPM Version][npm-image]][npm-url]\n",
    "[![Build Status][travis-image]][travis-url]\n",
    "[![Downloads Stats][npm-downloads]][npm-url]"
   ]
  },
  {
   "cell_type": "markdown",
   "metadata": {},
   "source": [
    "**三位一体招生信息爬虫**用于爬取[中国教育在线](http://www.eol.cn/html/g/zjswyt/)中的浙江高校三位一体报考简章中的信息，并写入Excel表，以供学生及生涯规划咨询师查阅。"
   ]
  },
  {
   "cell_type": "markdown",
   "metadata": {},
   "source": [
    "## Version\n",
    "- 0.0.0\n",
    "    - ADD:使用requests下载网页\n",
    "    - ADD:使用BeautifulSoap爬取表格中的学校名称，报考时间，网址，并存入一个`list`"
   ]
  },
  {
   "cell_type": "markdown",
   "metadata": {},
   "source": [
    "## Contact\n",
    "**Fan Zhang**\n",
    "- Homepage:\n",
    "- e-mail: vanadium-zhang@outlook.com"
   ]
  }
 ],
 "metadata": {
  "kernelspec": {
   "display_name": "Python 3",
   "language": "python",
   "name": "python3"
  },
  "language_info": {
   "codemirror_mode": {
    "name": "ipython",
    "version": 3
   },
   "file_extension": ".py",
   "mimetype": "text/x-python",
   "name": "python",
   "nbconvert_exporter": "python",
   "pygments_lexer": "ipython3",
   "version": "3.7.0"
  }
 },
 "nbformat": 4,
 "nbformat_minor": 2
}
