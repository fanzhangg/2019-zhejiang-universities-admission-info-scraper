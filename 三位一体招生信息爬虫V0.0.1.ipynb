{
 "cells": [
  {
   "cell_type": "code",
   "execution_count": 4,
   "metadata": {},
   "outputs": [
    {
     "name": "stdout",
     "output_type": "stream",
     "text": [
      "The file'浙江省三位一体招生信息.xlsx'has been saved successfully\n"
     ]
    }
   ],
   "source": [
    "import requests, openpyxl\n",
    "from bs4 import BeautifulSoup\n",
    "from os import path\n",
    "\n",
    "def get_one_page(url):\n",
    "    '''\n",
    "    param url: A string that stores the url\n",
    "    returns: A string that stores the decoded content of the web page. None if the request for this web page failed or a RequestException occured\n",
    "    '''\n",
    "    try:\n",
    "        headers = {\n",
    "            'User-Agent': 'Mozilla/5.0 (Windows NT 6.1; WOW64) AppleWebKit/537.36 (KHTML, like Gecko) Chrome/66.0.3359.181 Safari/537.36'\n",
    "        }\n",
    "        response = requests.get(url, headers=headers)\n",
    "        # Change the encoding used by Request to utf-8\n",
    "        response.encoding = 'utf-8'\n",
    "        # Check whether the request for this web page succeded\n",
    "        if response.status_code == requests.codes.ok:\n",
    "            return response.text\n",
    "        else:\n",
    "            return None\n",
    "    except RequestException:\n",
    "        return None\n",
    "\n",
    "def parse_homepage(res_text):\n",
    "    \"\"\"\n",
    "    param res_text: A string that stores the decoded content of a response\n",
    "    returns: A generator that generates a dictionary containing the school's name and its corresponding date and url\n",
    "    \"\"\"\n",
    "    soup = BeautifulSoup(res_text, features='html5lib')\n",
    "    cells = soup.select('.willnum-body > table > tbody > tr > td')\n",
    "    for i in range(3, len(cells), 3):\n",
    "        try:\n",
    "            name = cells[i].string\n",
    "            date = cells[i+1].string\n",
    "            url = cells[i+2].find('a')['href']\n",
    "\n",
    "            yield{\n",
    "                'name': name,\n",
    "                'date': date,\n",
    "                'url': url\n",
    "                }\n",
    "        except TypeError:\n",
    "            pass\n",
    "\n",
    "def write_to_excel(school_generator):\n",
    "    \"\"\"\n",
    "    param school_generator: A generator that generates a dictionary containing the school's name and its corresponding date and url\n",
    "    \"\"\"\n",
    "    wb = openpyxl.Workbook()\n",
    "    sheet = wb.active\n",
    "    sheet.title = '报考简章'\n",
    "    sheet.cell(row=1, column=1).value = '高校名单'\n",
    "    sheet.cell(row=1, column=2).value = '报名时间'\n",
    "    sheet.cell(row=1, column=3).value = '招生简章'\n",
    "    row = 2\n",
    "    for school in school_generator:\n",
    "        sheet.cell(row=row, column=1).value = school['name']\n",
    "        sheet.cell(row=row, column=2).value = school['date']\n",
    "        sheet.cell(row=row, column=3).value = school['url']\n",
    "        row += 1\n",
    "        \n",
    "    wb.save('浙江省2019年三位一体招生信息.xlsx')\n",
    "    print('''The file'浙江省三位一体招生信息.xlsx'has been saved successfully''')\n",
    "\n",
    "\n",
    "if __name__ == '__main__':\n",
    "    url = 'http://www.eol.cn/html/g/zjswyt/'\n",
    "    res_text = get_one_page(url)\n",
    "    school_generator = parse_homepage(res_text)\n",
    "    write_to_excel(school_generator)\n"
   ]
  },
  {
   "cell_type": "code",
   "execution_count": null,
   "metadata": {},
   "outputs": [],
   "source": []
  }
 ],
 "metadata": {
  "kernelspec": {
   "display_name": "Python 3",
   "language": "python",
   "name": "python3"
  },
  "language_info": {
   "codemirror_mode": {
    "name": "ipython",
    "version": 3
   },
   "file_extension": ".py",
   "mimetype": "text/x-python",
   "name": "python",
   "nbconvert_exporter": "python",
   "pygments_lexer": "ipython3",
   "version": "3.7.0"
  }
 },
 "nbformat": 4,
 "nbformat_minor": 2
}
